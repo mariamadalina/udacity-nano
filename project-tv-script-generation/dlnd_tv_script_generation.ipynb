{
  "nbformat": 4,
  "nbformat_minor": 0,
  "metadata": {
    "kernelspec": {
      "display_name": "Python 3",
      "language": "python",
      "name": "python3"
    },
    "language_info": {
      "codemirror_mode": {
        "name": "ipython",
        "version": 3
      },
      "file_extension": ".py",
      "mimetype": "text/x-python",
      "name": "python",
      "nbconvert_exporter": "python",
      "pygments_lexer": "ipython3",
      "version": "3.6.3"
    },
    "colab": {
      "name": "dlnd_tv_script_generation.ipynb",
      "provenance": []
    },
    "accelerator": "GPU"
  },
  "cells": [
    {
      "cell_type": "markdown",
      "metadata": {
        "id": "1kMv6BV0WUln",
        "colab_type": "text"
      },
      "source": [
        "# TV Script Generation\n",
        "\n",
        "In this project, you'll generate your own [Seinfeld](https://en.wikipedia.org/wiki/Seinfeld) TV scripts using RNNs.  You'll be using part of the [Seinfeld dataset](https://www.kaggle.com/thec03u5/seinfeld-chronicles#scripts.csv) of scripts from 9 seasons.  The Neural Network you'll build will generate a new ,\"fake\" TV script, based on patterns it recognizes in this training data.\n",
        "\n",
        "## Get the Data\n",
        "\n",
        "The data is already provided for you in `./data/Seinfeld_Scripts.txt` and you're encouraged to open that file and look at the text. \n",
        ">* As a first step, we'll load in this data and look at some samples. \n",
        "* Then, you'll be tasked with defining and training an RNN to generate a new script!"
      ]
    },
    {
      "cell_type": "code",
      "metadata": {
        "id": "jXbX9Tr6WUlo",
        "colab_type": "code",
        "colab": {}
      },
      "source": [
        "\"\"\"\n",
        "DON'T MODIFY ANYTHING IN THIS CELL\n",
        "\"\"\"\n",
        "# load in data\n",
        "import helper\n",
        "data_dir = './data/Seinfeld_Scripts.txt'\n",
        "text = helper.load_data(data_dir)"
      ],
      "execution_count": 0,
      "outputs": []
    },
    {
      "cell_type": "markdown",
      "metadata": {
        "id": "BgL3la9DWUlv",
        "colab_type": "text"
      },
      "source": [
        "## Explore the Data\n",
        "Play around with `view_line_range` to view different parts of the data. This will give you a sense of the data you'll be working with. You can see, for example, that it is all lowercase text, and each new line of dialogue is separated by a newline character `\\n`."
      ]
    },
    {
      "cell_type": "code",
      "metadata": {
        "id": "e-tReQgCWUlw",
        "colab_type": "code",
        "colab": {
          "base_uri": "https://localhost:8080/",
          "height": 309
        },
        "outputId": "33fe0887-6879-4364-e449-221d8023a9e0"
      },
      "source": [
        "view_line_range = (0, 10)\n",
        "\n",
        "\"\"\"\n",
        "DON'T MODIFY ANYTHING IN THIS CELL THAT IS BELOW THIS LINE\n",
        "\"\"\"\n",
        "import numpy as np\n",
        "\n",
        "print('Dataset Stats')\n",
        "print('Roughly the number of unique words: {}'.format(len({word: None for word in text.split()})))\n",
        "\n",
        "lines = text.split('\\n')\n",
        "print('Number of lines: {}'.format(len(lines)))\n",
        "word_count_line = [len(line.split()) for line in lines]\n",
        "print('Average number of words in each line: {}'.format(np.average(word_count_line)))\n",
        "\n",
        "print()\n",
        "print('The lines {} to {}:'.format(*view_line_range))\n",
        "print('\\n'.join(text.split('\\n')[view_line_range[0]:view_line_range[1]]))"
      ],
      "execution_count": 11,
      "outputs": [
        {
          "output_type": "stream",
          "text": [
            "Dataset Stats\n",
            "Roughly the number of unique words: 46367\n",
            "Number of lines: 109233\n",
            "Average number of words in each line: 5.544240293684143\n",
            "\n",
            "The lines 0 to 10:\n",
            "jerry: do you know what this is all about? do you know, why were here? to be out, this is out...and out is one of the single most enjoyable experiences of life. people...did you ever hear people talking about we should go out? this is what theyre talking about...this whole thing, were all out now, no one is home. not one person here is home, were all out! there are people trying to find us, they dont know where we are. (on an imaginary phone) did you ring?, i cant find him. where did he go? he didnt tell me where he was going. he must have gone out. you wanna go out you get ready, you pick out the clothes, right? you take the shower, you get all ready, get the cash, get your friends, the car, the spot, the reservation...then youre standing around, what do you do? you go we gotta be getting back. once youre out, you wanna get back! you wanna go to sleep, you wanna get up, you wanna go out again tomorrow, right? where ever you are in life, its my feeling, youve gotta go. \n",
            "\n",
            "jerry: (pointing at georges shirt) see, to me, that button is in the worst possible spot. the second button literally makes or breaks the shirt, look at it. its too high! its in no-mans-land. you look like you live with your mother. \n",
            "\n",
            "george: are you through? \n",
            "\n",
            "jerry: you do of course try on, when you buy? \n",
            "\n",
            "george: yes, it was purple, i liked it, i dont actually recall considering the buttons. \n",
            "\n"
          ],
          "name": "stdout"
        }
      ]
    },
    {
      "cell_type": "markdown",
      "metadata": {
        "id": "xRjsw7wWWUl1",
        "colab_type": "text"
      },
      "source": [
        "---\n",
        "## Implement Pre-processing Functions\n",
        "The first thing to do to any dataset is pre-processing.  Implement the following pre-processing functions below:\n",
        "- Lookup Table\n",
        "- Tokenize Punctuation\n",
        "\n",
        "### Lookup Table\n",
        "To create a word embedding, you first need to transform the words to ids.  In this function, create two dictionaries:\n",
        "- Dictionary to go from the words to an id, we'll call `vocab_to_int`\n",
        "- Dictionary to go from the id to word, we'll call `int_to_vocab`\n",
        "\n",
        "Return these dictionaries in the following **tuple** `(vocab_to_int, int_to_vocab)`"
      ]
    },
    {
      "cell_type": "code",
      "metadata": {
        "id": "L3ylk2KCWUl2",
        "colab_type": "code",
        "colab": {
          "base_uri": "https://localhost:8080/",
          "height": 34
        },
        "outputId": "2e7bbf50-be1f-4720-a2ed-43a92332b612"
      },
      "source": [
        "import problem_unittests as tests\n",
        "from collections import Counter\n",
        "\n",
        "def create_lookup_tables(text):\n",
        "    \"\"\"\n",
        "    Create lookup tables for vocabulary\n",
        "    :param text: The text of tv scripts split into words\n",
        "    :return: A tuple of dicts (vocab_to_int, int_to_vocab)\n",
        "    \"\"\"\n",
        "    # TODO: Implement Function\n",
        "    counts = Counter(text)\n",
        "    vocab = sorted(counts, key=counts.get, reverse=True)\n",
        "    vocab_to_int = {word: ii for ii, word in enumerate(vocab, 1)}\n",
        "    int_to_vocab = {ii: word for word, ii in vocab_to_int.items()} \n",
        "    # return tuple\n",
        "    return (vocab_to_int, int_to_vocab)\n",
        "\n",
        "\n",
        "\"\"\"\n",
        "DON'T MODIFY ANYTHING IN THIS CELL THAT IS BELOW THIS LINE\n",
        "\"\"\"\n",
        "tests.test_create_lookup_tables(create_lookup_tables)"
      ],
      "execution_count": 12,
      "outputs": [
        {
          "output_type": "stream",
          "text": [
            "Tests Passed\n"
          ],
          "name": "stdout"
        }
      ]
    },
    {
      "cell_type": "markdown",
      "metadata": {
        "id": "6n4HizdzWUl5",
        "colab_type": "text"
      },
      "source": [
        "### Tokenize Punctuation\n",
        "We'll be splitting the script into a word array using spaces as delimiters.  However, punctuations like periods and exclamation marks can create multiple ids for the same word. For example, \"bye\" and \"bye!\" would generate two different word ids.\n",
        "\n",
        "Implement the function `token_lookup` to return a dict that will be used to tokenize symbols like \"!\" into \"||Exclamation_Mark||\".  Create a dictionary for the following symbols where the symbol is the key and value is the token:\n",
        "- Period ( **.** )\n",
        "- Comma ( **,** )\n",
        "- Quotation Mark ( **\"** )\n",
        "- Semicolon ( **;** )\n",
        "- Exclamation mark ( **!** )\n",
        "- Question mark ( **?** )\n",
        "- Left Parentheses ( **(** )\n",
        "- Right Parentheses ( **)** )\n",
        "- Dash ( **-** )\n",
        "- Return ( **\\n** )\n",
        "\n",
        "This dictionary will be used to tokenize the symbols and add the delimiter (space) around it.  This separates each symbols as its own word, making it easier for the neural network to predict the next word. Make sure you don't use a value that could be confused as a word; for example, instead of using the value \"dash\", try using something like \"||dash||\"."
      ]
    },
    {
      "cell_type": "code",
      "metadata": {
        "id": "vFexG6AZWUl6",
        "colab_type": "code",
        "colab": {
          "base_uri": "https://localhost:8080/",
          "height": 34
        },
        "outputId": "3c1fd551-ca2f-47f4-90a6-34e26a1a0b37"
      },
      "source": [
        "def token_lookup():\n",
        "    \"\"\"\n",
        "    Generate a dict to turn punctuation into a token.\n",
        "    :return: Tokenized dictionary where the key is the punctuation and the value is the token\n",
        "    \"\"\"\n",
        "    # TODO: Implement Function\n",
        "    token_dict = {'.':'||Period||', ',':'||Comma||', '\"':'||Quotation_mark||', \n",
        "                  ';':'||Semicolon||', '!':'||Exclamation_mark||', '?':'||Question_mark||',\n",
        "                  '(':'||Left_parentheses||', ')':'||Right_parentheses||', '-':'||Dash||',\n",
        "                  '\\n':'||Return||'}\n",
        "    \n",
        "    return token_dict\n",
        "\n",
        "\"\"\"\n",
        "DON'T MODIFY ANYTHING IN THIS CELL THAT IS BELOW THIS LINE\n",
        "\"\"\"\n",
        "tests.test_tokenize(token_lookup)"
      ],
      "execution_count": 13,
      "outputs": [
        {
          "output_type": "stream",
          "text": [
            "Tests Passed\n"
          ],
          "name": "stdout"
        }
      ]
    },
    {
      "cell_type": "markdown",
      "metadata": {
        "id": "mTwAY88-WUl-",
        "colab_type": "text"
      },
      "source": [
        "## Pre-process all the data and save it\n",
        "\n",
        "Running the code cell below will pre-process all the data and save it to file. You're encouraged to lok at the code for `preprocess_and_save_data` in the `helpers.py` file to see what it's doing in detail, but you do not need to change this code."
      ]
    },
    {
      "cell_type": "code",
      "metadata": {
        "id": "f0_IzB6oWUl_",
        "colab_type": "code",
        "colab": {}
      },
      "source": [
        "\"\"\"\n",
        "DON'T MODIFY ANYTHING IN THIS CELL\n",
        "\"\"\"\n",
        "# pre-process training data\n",
        "helper.preprocess_and_save_data(data_dir, token_lookup, create_lookup_tables)"
      ],
      "execution_count": 0,
      "outputs": []
    },
    {
      "cell_type": "markdown",
      "metadata": {
        "id": "YNO_jxiSWUmE",
        "colab_type": "text"
      },
      "source": [
        "# Check Point\n",
        "This is your first checkpoint. If you ever decide to come back to this notebook or have to restart the notebook, you can start from here. The preprocessed data has been saved to disk."
      ]
    },
    {
      "cell_type": "code",
      "metadata": {
        "id": "YUwTJDXyWUmF",
        "colab_type": "code",
        "colab": {}
      },
      "source": [
        "\"\"\"\n",
        "DON'T MODIFY ANYTHING IN THIS CELL\n",
        "\"\"\"\n",
        "import helper\n",
        "import problem_unittests as tests\n",
        "\n",
        "int_text, vocab_to_int, int_to_vocab, token_dict = helper.load_preprocess()"
      ],
      "execution_count": 0,
      "outputs": []
    },
    {
      "cell_type": "markdown",
      "metadata": {
        "id": "FGW9ufBhWUmJ",
        "colab_type": "text"
      },
      "source": [
        "## Build the Neural Network\n",
        "In this section, you'll build the components necessary to build an RNN by implementing the RNN Module and forward and backpropagation functions.\n",
        "\n",
        "### Check Access to GPU"
      ]
    },
    {
      "cell_type": "code",
      "metadata": {
        "id": "9eDNJxqYWUmK",
        "colab_type": "code",
        "colab": {}
      },
      "source": [
        "\"\"\"\n",
        "DON'T MODIFY ANYTHING IN THIS CELL\n",
        "\"\"\"\n",
        "import torch\n",
        "\n",
        "# Check for a GPU\n",
        "train_on_gpu = torch.cuda.is_available()\n",
        "if not train_on_gpu:\n",
        "    print('No GPU found. Please use a GPU to train your neural network.')"
      ],
      "execution_count": 0,
      "outputs": []
    },
    {
      "cell_type": "markdown",
      "metadata": {
        "id": "2LKOTTm5WUmP",
        "colab_type": "text"
      },
      "source": [
        "## Input\n",
        "Let's start with the preprocessed input data. We'll use [TensorDataset](http://pytorch.org/docs/master/data.html#torch.utils.data.TensorDataset) to provide a known format to our dataset; in combination with [DataLoader](http://pytorch.org/docs/master/data.html#torch.utils.data.DataLoader), it will handle batching, shuffling, and other dataset iteration functions.\n",
        "\n",
        "You can create data with TensorDataset by passing in feature and target tensors. Then create a DataLoader as usual.\n",
        "```\n",
        "data = TensorDataset(feature_tensors, target_tensors)\n",
        "data_loader = torch.utils.data.DataLoader(data, \n",
        "                                          batch_size=batch_size)\n",
        "```\n",
        "\n",
        "### Batching\n",
        "Implement the `batch_data` function to batch `words` data into chunks of size `batch_size` using the `TensorDataset` and `DataLoader` classes.\n",
        "\n",
        ">You can batch words using the DataLoader, but it will be up to you to create `feature_tensors` and `target_tensors` of the correct size and content for a given `sequence_length`.\n",
        "\n",
        "For example, say we have these as input:\n",
        "```\n",
        "words = [1, 2, 3, 4, 5, 6, 7]\n",
        "sequence_length = 4\n",
        "```\n",
        "\n",
        "Your first `feature_tensor` should contain the values:\n",
        "```\n",
        "[1, 2, 3, 4]\n",
        "```\n",
        "And the corresponding `target_tensor` should just be the next \"word\"/tokenized word value:\n",
        "```\n",
        "5\n",
        "```\n",
        "This should continue with the second `feature_tensor`, `target_tensor` being:\n",
        "```\n",
        "[2, 3, 4, 5]  # features\n",
        "6             # target\n",
        "```"
      ]
    },
    {
      "cell_type": "code",
      "metadata": {
        "id": "48ffjVK-WUmP",
        "colab_type": "code",
        "colab": {}
      },
      "source": [
        "from torch.utils.data import TensorDataset, DataLoader\n",
        "import numpy as np\n",
        "\n",
        "def batch(iterable, n=1):\n",
        "    l = len(iterable)\n",
        "    for ndx in range(0, l, n):\n",
        "        yield iterable[ndx:min(ndx + n, l)]\n",
        "\n",
        "def batch_data(words, sequence_length, batch_size):\n",
        "    \"\"\"\n",
        "    Batch the neural network data using DataLoader\n",
        "    :param words: The word ids of the TV scripts\n",
        "    :param sequence_length: The sequence length of each batch\n",
        "    :param batch_size: The size of each batch; the number of sequences in a batch\n",
        "    :return: DataLoader with batched data\n",
        "    \"\"\"\n",
        "    # TODO: Implement function\n",
        "#     batch_size_total = batch_size * sequence_length\n",
        "#     n_batches = len(words)//batch_size_total\n",
        "#     words = np.array(words[:n_batches * batch_size_total])\n",
        "    \n",
        "#     feature_tensors = []\n",
        "#     target_tensors = []\n",
        "#     y = None\n",
        "#     first=True\n",
        "#     for x in batch(list(words), sequence_length):\n",
        "        \n",
        "#         if (first==False):\n",
        "#             y=x[0]\n",
        "#             target_tensors.append(y)\n",
        "#         else:\n",
        "#             first=False\n",
        "        \n",
        "#         feature_tensors.append(x)\n",
        "\n",
        "#     target_tensors.append(words[0])\n",
        "    \n",
        "#     feature_tensors = torch.Tensor(feature_tensors)\n",
        "#     target_tensors = torch.Tensor(target_tensors)\n",
        "#     data = TensorDataset(feature_tensors, target_tensors)\n",
        "#     data_loader = torch.utils.data.DataLoader(data, batch_size=batch_size, shuffle=True)\n",
        "    \n",
        "#     return data_loader\n",
        "    n_batches = len(words)//batch_size\n",
        "    # only full batches\n",
        "    words = words[:n_batches*batch_size]\n",
        "    y_len = len(words) - sequence_length\n",
        "    x, y = [], []\n",
        "    for idx in range(0, y_len):\n",
        "        idx_end = sequence_length + idx\n",
        "        x_batch = words[idx:idx_end]\n",
        "        x.append(x_batch)\n",
        "        batch_y =  words[idx_end]\n",
        "        y.append(batch_y)    \n",
        "\n",
        "    # create Tensor datasets\n",
        "    data = TensorDataset(torch.from_numpy(np.asarray(x)), torch.from_numpy(np.asarray(y)))\n",
        "    # make sure the SHUFFLE your training data\n",
        "    data_loader = DataLoader(data, shuffle=True, batch_size=batch_size)\n",
        "    # return a dataloader\n",
        "    return data_loader\n",
        "\n",
        "\n",
        "# there is no test for this function, but you are encouraged to create\n",
        "# print statements and tests of your own\n"
      ],
      "execution_count": 0,
      "outputs": []
    },
    {
      "cell_type": "markdown",
      "metadata": {
        "id": "QyIsXT5jWUmT",
        "colab_type": "text"
      },
      "source": [
        "### Test your dataloader \n",
        "\n",
        "You'll have to modify this code to test a batching function, but it should look fairly similar.\n",
        "\n",
        "Below, we're generating some test text data and defining a dataloader using the function you defined, above. Then, we are getting some sample batch of inputs `sample_x` and targets `sample_y` from our dataloader.\n",
        "\n",
        "Your code should return something like the following (likely in a different order, if you shuffled your data):\n",
        "\n",
        "```\n",
        "torch.Size([10, 5])\n",
        "tensor([[ 28,  29,  30,  31,  32],\n",
        "        [ 21,  22,  23,  24,  25],\n",
        "        [ 17,  18,  19,  20,  21],\n",
        "        [ 34,  35,  36,  37,  38],\n",
        "        [ 11,  12,  13,  14,  15],\n",
        "        [ 23,  24,  25,  26,  27],\n",
        "        [  6,   7,   8,   9,  10],\n",
        "        [ 38,  39,  40,  41,  42],\n",
        "        [ 25,  26,  27,  28,  29],\n",
        "        [  7,   8,   9,  10,  11]])\n",
        "\n",
        "torch.Size([10])\n",
        "tensor([ 33,  26,  22,  39,  16,  28,  11,  43,  30,  12])\n",
        "```\n",
        "\n",
        "### Sizes\n",
        "Your sample_x should be of size `(batch_size, sequence_length)` or (10, 5) in this case and sample_y should just have one dimension: batch_size (10). \n",
        "\n",
        "### Values\n",
        "\n",
        "You should also notice that the targets, sample_y, are the *next* value in the ordered test_text data. So, for an input sequence `[ 28,  29,  30,  31,  32]` that ends with the value `32`, the corresponding output should be `33`."
      ]
    },
    {
      "cell_type": "code",
      "metadata": {
        "id": "C7IZSldFWUmT",
        "colab_type": "code",
        "colab": {
          "base_uri": "https://localhost:8080/",
          "height": 255
        },
        "outputId": "d360b0a9-1b94-4f4c-a5ee-6d231e5eb37c"
      },
      "source": [
        "# test dataloader\n",
        "\n",
        "test_text = range(50)\n",
        "t_loader = batch_data(test_text, sequence_length=5, batch_size=10)\n",
        "\n",
        "data_iter = iter(t_loader)\n",
        "sample_x, sample_y = data_iter.next()\n",
        "\n",
        "print(sample_x.shape)\n",
        "print(sample_x)\n",
        "print()\n",
        "print(sample_y.shape)\n",
        "print(sample_y)"
      ],
      "execution_count": 18,
      "outputs": [
        {
          "output_type": "stream",
          "text": [
            "torch.Size([10, 5])\n",
            "tensor([[ 4,  5,  6,  7,  8],\n",
            "        [34, 35, 36, 37, 38],\n",
            "        [39, 40, 41, 42, 43],\n",
            "        [ 5,  6,  7,  8,  9],\n",
            "        [18, 19, 20, 21, 22],\n",
            "        [43, 44, 45, 46, 47],\n",
            "        [42, 43, 44, 45, 46],\n",
            "        [37, 38, 39, 40, 41],\n",
            "        [ 0,  1,  2,  3,  4],\n",
            "        [28, 29, 30, 31, 32]])\n",
            "\n",
            "torch.Size([10])\n",
            "tensor([ 9, 39, 44, 10, 23, 48, 47, 42,  5, 33])\n"
          ],
          "name": "stdout"
        }
      ]
    },
    {
      "cell_type": "markdown",
      "metadata": {
        "id": "ASte7vwbWUmX",
        "colab_type": "text"
      },
      "source": [
        "---\n",
        "## Build the Neural Network\n",
        "Implement an RNN using PyTorch's [Module class](http://pytorch.org/docs/master/nn.html#torch.nn.Module). You may choose to use a GRU or an LSTM. To complete the RNN, you'll have to implement the following functions for the class:\n",
        " - `__init__` - The initialize function. \n",
        " - `init_hidden` - The initialization function for an LSTM/GRU hidden state\n",
        " - `forward` - Forward propagation function.\n",
        " \n",
        "The initialize function should create the layers of the neural network and save them to the class. The forward propagation function will use these layers to run forward propagation and generate an output and a hidden state.\n",
        "\n",
        "**The output of this model should be the *last* batch of word scores** after a complete sequence has been processed. That is, for each input sequence of words, we only want to output the word scores for a single, most likely, next word.\n",
        "\n",
        "### Hints\n",
        "\n",
        "1. Make sure to stack the outputs of the lstm to pass to your fully-connected layer, you can do this with `lstm_output = lstm_output.contiguous().view(-1, self.hidden_dim)`\n",
        "2. You can get the last batch of word scores by shaping the output of the final, fully-connected layer like so:\n",
        "\n",
        "```\n",
        "# reshape into (batch_size, seq_length, output_size)\n",
        "output = output.view(batch_size, -1, self.output_size)\n",
        "# get last batch\n",
        "out = output[:, -1]\n",
        "```"
      ]
    },
    {
      "cell_type": "code",
      "metadata": {
        "id": "tbIOmfXfWUmX",
        "colab_type": "code",
        "colab": {
          "base_uri": "https://localhost:8080/",
          "height": 34
        },
        "outputId": "5f978ce9-ca62-4ea9-c587-a61d17e13091"
      },
      "source": [
        "import torch.nn as nn\n",
        "\n",
        "class RNN(nn.Module):\n",
        "    \n",
        "    def __init__(self, vocab_size, output_size, embedding_dim, hidden_dim, n_layers, dropout=0.3):\n",
        "        \"\"\"\n",
        "        Initialize the PyTorch RNN Module\n",
        "        :param vocab_size: The number of input dimensions of the neural network (the size of the vocabulary)\n",
        "        :param output_size: The number of output dimensions of the neural network\n",
        "        :param embedding_dim: The size of embeddings, should you choose to use them        \n",
        "        :param hidden_dim: The size of the hidden layer outputs\n",
        "        :param dropout: dropout to add in between LSTM/GRU layers\n",
        "        \"\"\"\n",
        "        super(RNN, self).__init__()\n",
        "        # TODO: Implement function\n",
        "        \n",
        "        # set class variables\n",
        "        self.output_size = output_size\n",
        "        self.n_layers = n_layers\n",
        "        self.hidden_dim = hidden_dim\n",
        "        \n",
        "        # define model layers\n",
        "#         self.embedding = nn.Embedding(vocab_size, embedding_dim)\n",
        "#         self.lstm = nn.LSTM(embedding_dim, hidden_dim, n_layers, \n",
        "#                             dropout=dropout, batch_first=True)\n",
        "\n",
        "#         self.fc = nn.Linear(hidden_dim, output_size)\n",
        "        \n",
        "        self.embedding = nn.Embedding(vocab_size, embedding_dim)\n",
        "        self.lstm = nn.LSTM(embedding_dim, hidden_dim, n_layers, dropout=dropout, batch_first=True)\n",
        "        # self.dropout = nn.Dropout(0.3)\n",
        "        self.fc = nn.Linear(hidden_dim, output_size)\n",
        "    \n",
        "    \n",
        "    def forward(self, nn_input, hidden):\n",
        "        \"\"\"\n",
        "        Forward propagation of the neural network\n",
        "        :param nn_input: The input to the neural network\n",
        "        :param hidden: The hidden state        \n",
        "        :return: Two Tensors, the output of the neural network and the latest hidden state\n",
        "        \"\"\"\n",
        "        # TODO: Implement function   \n",
        "\n",
        "#         batch_size = nn_input.size(0)\n",
        "\n",
        "#         embeds = self.embedding(nn_input)\n",
        "        \n",
        "#         lstm_out, hidden = self.lstm(embeds, hidden)\n",
        "        \n",
        "#         lstm_out = lstm_out.contiguous().view(-1, self.hidden_dim)\n",
        "#         out = self.fc(lstm_out)\n",
        "        \n",
        "#         out = out.view(batch_size, -1, self.output_size)\n",
        "#         out = out[:, -1]\n",
        "        \n",
        "#         # return one batch of output word scores and the hidden state\n",
        "#         return out, hidden\n",
        "\n",
        "        batch_size = nn_input.size(0)\n",
        "        # print(\"batch_size: \", batch_size)\n",
        "        # print(\"nn_input.shape: \", nn_input.shape)                         #(batch_size, sequence_len)\n",
        "        # print(\"hidden[0].shape: \", hidden[0].shape)                       #(n_layers, batch_size, hidden_dim)\n",
        "        # nn_input = nn_input.long()\n",
        "        embed = self.embedding(nn_input)                                  #(batch_size, sequence_len, embedding_dim)\n",
        "        # print(\"embed.shape: \", embed.shape)\n",
        "        lstm_out, hidden = self.lstm(embed, hidden)                       #(batch_size, sequence_len, hidden_dim)\n",
        "        # print(\"lstm_output.shape: \", lstm_out.shape)\n",
        "        lstm_out = lstm_out.contiguous().view(-1, self.hidden_dim)        #(batch_size*sequence_len, hidden_dim)\n",
        "        # print(\"lstm_output.shape: \", lstm_out.shape)\n",
        "        # lstm_out = self.dropout(lstm_out)                                 #(batch_size*sequence_len, hidden_dim)\n",
        "        # print(\"lstm_output.shape: \", lstm_out.shape)\n",
        "        output = self.fc(lstm_out)                                        #(batch_size*sequence_len, output_size)  \n",
        "        # print(\"output.shape: \", output.shape)        \n",
        "        # reshape into (batch_size, seq_length, output_size)\n",
        "        output = output.view(batch_size, -1, self.output_size)            #(batch_size, sequence_len, output_size)  \n",
        "        # print(\"output.shape: \", output.shape) \n",
        "        #get last batch\n",
        "        out = output[:, -1]                                               #(batch_size, output_size)\n",
        "        # print(\"out.shape: \", out.shape) \n",
        "\n",
        "        # return one batch of output word scores and the hidden state\n",
        "        return out, hidden\n",
        "    \n",
        "    def init_hidden(self, batch_size):\n",
        "        '''\n",
        "        Initialize the hidden state of an LSTM/GRU\n",
        "        :param batch_size: The batch_size of the hidden state\n",
        "        :return: hidden state of dims (n_layers, batch_size, hidden_dim)\n",
        "        '''\n",
        "        # Implement function\n",
        "        \n",
        "        # initialize hidden state with zero weights, and move to GPU if available\n",
        "        \n",
        "        weight = next(self.parameters()).data\n",
        "        \n",
        "        if (train_on_gpu):\n",
        "            hidden = (weight.new(self.n_layers, batch_size, self.hidden_dim).zero_().cuda(),\n",
        "                  weight.new(self.n_layers, batch_size, self.hidden_dim).zero_().cuda())\n",
        "        else:\n",
        "            hidden = (weight.new(self.n_layers, batch_size, self.hidden_dim).zero_(),\n",
        "                      weight.new(self.n_layers, batch_size, self.hidden_dim).zero_())\n",
        "        \n",
        "        return hidden\n",
        "\n",
        "\"\"\"\n",
        "DON'T MODIFY ANYTHING IN THIS CELL THAT IS BELOW THIS LINE\n",
        "\"\"\"\n",
        "tests.test_rnn(RNN, train_on_gpu)"
      ],
      "execution_count": 26,
      "outputs": [
        {
          "output_type": "stream",
          "text": [
            "Tests Passed\n"
          ],
          "name": "stdout"
        }
      ]
    },
    {
      "cell_type": "markdown",
      "metadata": {
        "id": "SQFfFKUZWUmc",
        "colab_type": "text"
      },
      "source": [
        "### Define forward and backpropagation\n",
        "\n",
        "Use the RNN class you implemented to apply forward and back propagation. This function will be called, iteratively, in the training loop as follows:\n",
        "```\n",
        "loss = forward_back_prop(decoder, decoder_optimizer, criterion, inp, target)\n",
        "```\n",
        "\n",
        "And it should return the average loss over a batch and the hidden state returned by a call to `RNN(inp, hidden)`. Recall that you can get this loss by computing it, as usual, and calling `loss.item()`.\n",
        "\n",
        "**If a GPU is available, you should move your data to that GPU device, here.**"
      ]
    },
    {
      "cell_type": "code",
      "metadata": {
        "id": "dITZnhIqWUmc",
        "colab_type": "code",
        "colab": {
          "base_uri": "https://localhost:8080/",
          "height": 34
        },
        "outputId": "50052e4b-11e0-461f-97e8-911716a83b08"
      },
      "source": [
        "def forward_back_prop(rnn, optimizer, criterion, inp, target, hidden):\n",
        "    \"\"\"\n",
        "    Forward and backward propagation on the neural network\n",
        "    :param decoder: The PyTorch Module that holds the neural network\n",
        "    :param decoder_optimizer: The PyTorch optimizer for the neural network\n",
        "    :param criterion: The PyTorch loss function\n",
        "    :param inp: A batch of input to the neural network\n",
        "    :param target: The target output for the batch of input\n",
        "    :return: The loss and the latest hidden state Tensor\n",
        "    \"\"\"\n",
        "    \n",
        "    # TODO: Implement Function\n",
        "    \n",
        "    # move data to GPU, if available\n",
        "    if(train_on_gpu):\n",
        "        rnn.cuda()\n",
        "        inp, target = inp.cuda(), target.cuda()\n",
        "    \n",
        "    # perform backpropagation and optimization\n",
        "    h = tuple([each.data for each in hidden])\n",
        "    rnn.zero_grad()\n",
        "    \n",
        "    output, h = rnn(inp, h)\n",
        "    loss = criterion(output, target.long())\n",
        "    loss.backward()\n",
        "    \n",
        "    nn.utils.clip_grad_norm_(rnn.parameters(), max_norm=5)\n",
        "    optimizer.step()\n",
        "    \n",
        "    # return the loss over a batch and the hidden state produced by our model\n",
        "    return loss.detach().item(), h\n",
        "\n",
        "# Note that these tests aren't completely extensive.\n",
        "# they are here to act as general checks on the expected outputs of your functions\n",
        "\"\"\"\n",
        "DON'T MODIFY ANYTHING IN THIS CELL THAT IS BELOW THIS LINE\n",
        "\"\"\"\n",
        "tests.test_forward_back_prop(RNN, forward_back_prop, train_on_gpu)"
      ],
      "execution_count": 27,
      "outputs": [
        {
          "output_type": "stream",
          "text": [
            "Tests Passed\n"
          ],
          "name": "stdout"
        }
      ]
    },
    {
      "cell_type": "markdown",
      "metadata": {
        "id": "ecQT-v1lWUmg",
        "colab_type": "text"
      },
      "source": [
        "## Neural Network Training\n",
        "\n",
        "With the structure of the network complete and data ready to be fed in the neural network, it's time to train it.\n",
        "\n",
        "### Train Loop\n",
        "\n",
        "The training loop is implemented for you in the `train_decoder` function. This function will train the network over all the batches for the number of epochs given. The model progress will be shown every number of batches. This number is set with the `show_every_n_batches` parameter. You'll set this parameter along with other parameters in the next section."
      ]
    },
    {
      "cell_type": "code",
      "metadata": {
        "id": "kwR0zQZhWUmg",
        "colab_type": "code",
        "colab": {}
      },
      "source": [
        "\"\"\"\n",
        "DON'T MODIFY ANYTHING IN THIS CELL\n",
        "\"\"\"\n",
        "\n",
        "def train_rnn(rnn, batch_size, optimizer, criterion, n_epochs, show_every_n_batches=100):\n",
        "    batch_losses = []\n",
        "    \n",
        "    rnn.train()\n",
        "\n",
        "    print(\"Training for %d epoch(s)...\" % n_epochs)\n",
        "    for epoch_i in range(1, n_epochs + 1):\n",
        "        \n",
        "        # initialize hidden state\n",
        "        hidden = rnn.init_hidden(batch_size)\n",
        "        \n",
        "        for batch_i, (inputs, labels) in enumerate(train_loader, 1):\n",
        "            \n",
        "            # make sure you iterate over completely full batches, only\n",
        "            n_batches = len(train_loader.dataset)//batch_size\n",
        "            if(batch_i > n_batches):\n",
        "                break\n",
        "            \n",
        "            # forward, back prop\n",
        "            loss, hidden = forward_back_prop(rnn, optimizer, criterion, inputs, labels, hidden)          \n",
        "            # record loss\n",
        "            batch_losses.append(loss)\n",
        "\n",
        "            # printing loss stats\n",
        "            if batch_i % show_every_n_batches == 0:\n",
        "                print('Epoch: {:>4}/{:<4}  Loss: {}\\n'.format(\n",
        "                    epoch_i, n_epochs, np.average(batch_losses)))\n",
        "                batch_losses = []\n",
        "\n",
        "    # returns a trained rnn\n",
        "    return rnn"
      ],
      "execution_count": 0,
      "outputs": []
    },
    {
      "cell_type": "markdown",
      "metadata": {
        "id": "v8wv1a7nWUmj",
        "colab_type": "text"
      },
      "source": [
        "### Hyperparameters\n",
        "\n",
        "Set and train the neural network with the following parameters:\n",
        "- Set `sequence_length` to the length of a sequence.\n",
        "- Set `batch_size` to the batch size.\n",
        "- Set `num_epochs` to the number of epochs to train for.\n",
        "- Set `learning_rate` to the learning rate for an Adam optimizer.\n",
        "- Set `vocab_size` to the number of uniqe tokens in our vocabulary.\n",
        "- Set `output_size` to the desired size of the output.\n",
        "- Set `embedding_dim` to the embedding dimension; smaller than the vocab_size.\n",
        "- Set `hidden_dim` to the hidden dimension of your RNN.\n",
        "- Set `n_layers` to the number of layers/cells in your RNN.\n",
        "- Set `show_every_n_batches` to the number of batches at which the neural network should print progress.\n",
        "\n",
        "If the network isn't getting the desired results, tweak these parameters and/or the layers in the `RNN` class."
      ]
    },
    {
      "cell_type": "code",
      "metadata": {
        "id": "kYdTNKKBWUmk",
        "colab_type": "code",
        "colab": {}
      },
      "source": [
        "# Data params\n",
        "# Sequence Length\n",
        "sequence_length = 20  # of words in a sequence\n",
        "# Batch Size\n",
        "batch_size = 128\n",
        "\n",
        "# data loader - do not change\n",
        "train_loader = batch_data(int_text, sequence_length, batch_size)"
      ],
      "execution_count": 0,
      "outputs": []
    },
    {
      "cell_type": "code",
      "metadata": {
        "id": "7RnEDkdOWUmn",
        "colab_type": "code",
        "colab": {}
      },
      "source": [
        "# Training parameters\n",
        "# Number of Epochs\n",
        "num_epochs = 10\n",
        "# Learning Rate\n",
        "learning_rate = 0.002\n",
        "\n",
        "# Model parameters\n",
        "# Vocab size\n",
        "vocab_size = len(vocab_to_int)\n",
        "# Output size\n",
        "output_size = vocab_size\n",
        "# Embedding Dimension\n",
        "embedding_dim = 300\n",
        "# Hidden Dimension\n",
        "hidden_dim = 512\n",
        "# Number of RNN Layers\n",
        "n_layers = 2\n",
        "\n",
        "# Show stats for every n number of batches\n",
        "show_every_n_batches = 500"
      ],
      "execution_count": 0,
      "outputs": []
    },
    {
      "cell_type": "markdown",
      "metadata": {
        "id": "xCu_vmiyWUmq",
        "colab_type": "text"
      },
      "source": [
        "### Train\n",
        "In the next cell, you'll train the neural network on the pre-processed data.  If you have a hard time getting a good loss, you may consider changing your hyperparameters. In general, you may get better results with larger hidden and n_layer dimensions, but larger models take a longer time to train. \n",
        "> **You should aim for a loss less than 3.5.** \n",
        "\n",
        "You should also experiment with different sequence lengths, which determine the size of the long range dependencies that a model can learn."
      ]
    },
    {
      "cell_type": "code",
      "metadata": {
        "id": "szgOgLwSWUmr",
        "colab_type": "code",
        "colab": {
          "base_uri": "https://localhost:8080/",
          "height": 1000
        },
        "outputId": "e16fa99c-d74c-4f55-e4d4-ac871cb69089"
      },
      "source": [
        "\"\"\"\n",
        "DON'T MODIFY ANYTHING IN THIS CELL\n",
        "\"\"\"\n",
        "\n",
        "# create model and move to gpu if available\n",
        "rnn = RNN(vocab_size, output_size, embedding_dim, hidden_dim, n_layers, dropout=0.5)\n",
        "if train_on_gpu:\n",
        "    rnn.cuda()\n",
        "\n",
        "# defining loss and optimization functions for training\n",
        "optimizer = torch.optim.Adam(rnn.parameters(), lr=learning_rate)\n",
        "criterion = nn.CrossEntropyLoss()\n",
        "\n",
        "# training the model\n",
        "trained_rnn = train_rnn(rnn, batch_size, optimizer, criterion, num_epochs, show_every_n_batches)\n",
        "\n",
        "# saving the trained model\n",
        "helper.save_model('./save/trained_rnn', trained_rnn)\n",
        "print('Model Trained and Saved')"
      ],
      "execution_count": 60,
      "outputs": [
        {
          "output_type": "stream",
          "text": [
            "Training for 10 epoch(s)...\n",
            "Epoch:    1/10    Loss: 5.2098567094802855\n",
            "\n",
            "Epoch:    1/10    Loss: 4.644318076133728\n",
            "\n",
            "Epoch:    1/10    Loss: 4.480203908920288\n",
            "\n",
            "Epoch:    1/10    Loss: 4.384352329730987\n",
            "\n",
            "Epoch:    1/10    Loss: 4.2868800768852235\n",
            "\n",
            "Epoch:    1/10    Loss: 4.267771987438202\n",
            "\n",
            "Epoch:    1/10    Loss: 4.2441685366630555\n",
            "\n",
            "Epoch:    1/10    Loss: 4.167212261676788\n",
            "\n",
            "Epoch:    1/10    Loss: 4.173274946212769\n",
            "\n",
            "Epoch:    1/10    Loss: 4.1280538272857665\n",
            "\n",
            "Epoch:    1/10    Loss: 4.102700160503387\n",
            "\n",
            "Epoch:    1/10    Loss: 4.094147276878357\n",
            "\n",
            "Epoch:    1/10    Loss: 4.105357785701751\n",
            "\n",
            "Epoch:    2/10    Loss: 3.9575602872805162\n",
            "\n",
            "Epoch:    2/10    Loss: 3.8778745656013487\n",
            "\n",
            "Epoch:    2/10    Loss: 3.8685070672035216\n",
            "\n",
            "Epoch:    2/10    Loss: 3.857060043334961\n",
            "\n",
            "Epoch:    2/10    Loss: 3.8463902869224547\n",
            "\n",
            "Epoch:    2/10    Loss: 3.858669671535492\n",
            "\n",
            "Epoch:    2/10    Loss: 3.846140776634216\n",
            "\n",
            "Epoch:    2/10    Loss: 3.841614939689636\n",
            "\n",
            "Epoch:    2/10    Loss: 3.8634581270217896\n",
            "\n",
            "Epoch:    2/10    Loss: 3.829445749759674\n",
            "\n",
            "Epoch:    2/10    Loss: 3.828117290973663\n",
            "\n",
            "Epoch:    2/10    Loss: 3.8479499197006226\n",
            "\n",
            "Epoch:    2/10    Loss: 3.876126905918121\n",
            "\n",
            "Epoch:    3/10    Loss: 3.7486241174138284\n",
            "\n",
            "Epoch:    3/10    Loss: 3.6402197880744933\n",
            "\n",
            "Epoch:    3/10    Loss: 3.64382110786438\n",
            "\n",
            "Epoch:    3/10    Loss: 3.658150053024292\n",
            "\n",
            "Epoch:    3/10    Loss: 3.657683217048645\n",
            "\n",
            "Epoch:    3/10    Loss: 3.65986829996109\n",
            "\n",
            "Epoch:    3/10    Loss: 3.6714111528396605\n",
            "\n",
            "Epoch:    3/10    Loss: 3.67494110250473\n",
            "\n",
            "Epoch:    3/10    Loss: 3.6938516249656677\n",
            "\n",
            "Epoch:    3/10    Loss: 3.6947651686668395\n",
            "\n",
            "Epoch:    3/10    Loss: 3.6952608952522277\n",
            "\n",
            "Epoch:    3/10    Loss: 3.703232437133789\n",
            "\n",
            "Epoch:    3/10    Loss: 3.703385347366333\n",
            "\n",
            "Epoch:    4/10    Loss: 3.606662732264227\n",
            "\n",
            "Epoch:    4/10    Loss: 3.5203455362319946\n",
            "\n",
            "Epoch:    4/10    Loss: 3.5106461696624756\n",
            "\n",
            "Epoch:    4/10    Loss: 3.528451536178589\n",
            "\n",
            "Epoch:    4/10    Loss: 3.532740948200226\n",
            "\n",
            "Epoch:    4/10    Loss: 3.55157106256485\n",
            "\n",
            "Epoch:    4/10    Loss: 3.563400938510895\n",
            "\n",
            "Epoch:    4/10    Loss: 3.5625940647125245\n",
            "\n",
            "Epoch:    4/10    Loss: 3.579947636604309\n",
            "\n",
            "Epoch:    4/10    Loss: 3.5858677010536195\n",
            "\n",
            "Epoch:    4/10    Loss: 3.5631685609817505\n",
            "\n",
            "Epoch:    4/10    Loss: 3.594450249195099\n",
            "\n",
            "Epoch:    4/10    Loss: 3.5846909646987917\n",
            "\n",
            "Epoch:    5/10    Loss: 3.4989527375244895\n",
            "\n",
            "Epoch:    5/10    Loss: 3.432142825603485\n",
            "\n",
            "Epoch:    5/10    Loss: 3.4073234243392942\n",
            "\n",
            "Epoch:    5/10    Loss: 3.40576322221756\n",
            "\n",
            "Epoch:    5/10    Loss: 3.448205543041229\n",
            "\n",
            "Epoch:    5/10    Loss: 3.4586821846961975\n",
            "\n",
            "Epoch:    5/10    Loss: 3.448937037944794\n",
            "\n",
            "Epoch:    5/10    Loss: 3.4722106990814208\n",
            "\n",
            "Epoch:    5/10    Loss: 3.4802585258483885\n",
            "\n",
            "Epoch:    5/10    Loss: 3.49347841835022\n",
            "\n",
            "Epoch:    5/10    Loss: 3.508174928188324\n",
            "\n",
            "Epoch:    5/10    Loss: 3.5006230998039247\n",
            "\n",
            "Epoch:    5/10    Loss: 3.5439432735443117\n",
            "\n",
            "Epoch:    6/10    Loss: 3.418489476373373\n",
            "\n",
            "Epoch:    6/10    Loss: 3.3386723246574403\n",
            "\n",
            "Epoch:    6/10    Loss: 3.3412961316108705\n",
            "\n",
            "Epoch:    6/10    Loss: 3.3607651977539064\n",
            "\n",
            "Epoch:    6/10    Loss: 3.3828345370292663\n",
            "\n",
            "Epoch:    6/10    Loss: 3.384122383117676\n",
            "\n",
            "Epoch:    6/10    Loss: 3.401136927127838\n",
            "\n",
            "Epoch:    6/10    Loss: 3.416935426235199\n",
            "\n",
            "Epoch:    6/10    Loss: 3.4164759802818296\n",
            "\n",
            "Epoch:    6/10    Loss: 3.4292486023902895\n",
            "\n",
            "Epoch:    6/10    Loss: 3.4323757557868957\n",
            "\n",
            "Epoch:    6/10    Loss: 3.436793231010437\n",
            "\n",
            "Epoch:    6/10    Loss: 3.4763596143722535\n",
            "\n",
            "Epoch:    7/10    Loss: 3.3665500753674626\n",
            "\n",
            "Epoch:    7/10    Loss: 3.274177397251129\n",
            "\n",
            "Epoch:    7/10    Loss: 3.281336480140686\n",
            "\n",
            "Epoch:    7/10    Loss: 3.296716101169586\n",
            "\n",
            "Epoch:    7/10    Loss: 3.3409517517089844\n",
            "\n",
            "Epoch:    7/10    Loss: 3.3118031821250917\n",
            "\n",
            "Epoch:    7/10    Loss: 3.348753168106079\n",
            "\n",
            "Epoch:    7/10    Loss: 3.3537993779182433\n",
            "\n",
            "Epoch:    7/10    Loss: 3.342844934463501\n",
            "\n",
            "Epoch:    7/10    Loss: 3.362269327163696\n",
            "\n",
            "Epoch:    7/10    Loss: 3.4000584650039674\n",
            "\n",
            "Epoch:    7/10    Loss: 3.381922396659851\n",
            "\n",
            "Epoch:    7/10    Loss: 3.405783137321472\n",
            "\n",
            "Epoch:    8/10    Loss: 3.320220979284649\n",
            "\n",
            "Epoch:    8/10    Loss: 3.223982222557068\n",
            "\n",
            "Epoch:    8/10    Loss: 3.2373883028030397\n",
            "\n",
            "Epoch:    8/10    Loss: 3.2558323068618775\n",
            "\n",
            "Epoch:    8/10    Loss: 3.254284800052643\n",
            "\n",
            "Epoch:    8/10    Loss: 3.2733211941719054\n",
            "\n",
            "Epoch:    8/10    Loss: 3.3039999499320984\n",
            "\n",
            "Epoch:    8/10    Loss: 3.306700605392456\n",
            "\n",
            "Epoch:    8/10    Loss: 3.310398585796356\n",
            "\n",
            "Epoch:    8/10    Loss: 3.3307930464744566\n",
            "\n",
            "Epoch:    8/10    Loss: 3.33497225856781\n",
            "\n",
            "Epoch:    8/10    Loss: 3.368864639759064\n",
            "\n",
            "Epoch:    8/10    Loss: 3.3773223094940183\n",
            "\n",
            "Epoch:    9/10    Loss: 3.2773543751436818\n",
            "\n",
            "Epoch:    9/10    Loss: 3.171738559246063\n",
            "\n",
            "Epoch:    9/10    Loss: 3.222451404571533\n",
            "\n",
            "Epoch:    9/10    Loss: 3.207970099925995\n",
            "\n",
            "Epoch:    9/10    Loss: 3.2387558765411377\n",
            "\n",
            "Epoch:    9/10    Loss: 3.249077039241791\n",
            "\n",
            "Epoch:    9/10    Loss: 3.2429378185272215\n",
            "\n",
            "Epoch:    9/10    Loss: 3.2625793347358703\n",
            "\n",
            "Epoch:    9/10    Loss: 3.266186451435089\n",
            "\n",
            "Epoch:    9/10    Loss: 3.283919681072235\n",
            "\n",
            "Epoch:    9/10    Loss: 3.2922026109695435\n",
            "\n",
            "Epoch:    9/10    Loss: 3.329367748260498\n",
            "\n",
            "Epoch:    9/10    Loss: 3.3323066096305847\n",
            "\n",
            "Epoch:   10/10    Loss: 3.2448489424610925\n",
            "\n",
            "Epoch:   10/10    Loss: 3.1364177231788637\n",
            "\n",
            "Epoch:   10/10    Loss: 3.172276804447174\n",
            "\n",
            "Epoch:   10/10    Loss: 3.1880097351074217\n",
            "\n",
            "Epoch:   10/10    Loss: 3.184503610610962\n",
            "\n",
            "Epoch:   10/10    Loss: 3.2146325097084048\n",
            "\n",
            "Epoch:   10/10    Loss: 3.2194400877952574\n",
            "\n",
            "Epoch:   10/10    Loss: 3.250775598526001\n",
            "\n",
            "Epoch:   10/10    Loss: 3.2303061323165894\n",
            "\n",
            "Epoch:   10/10    Loss: 3.2487965474128724\n",
            "\n",
            "Epoch:   10/10    Loss: 3.257084801197052\n",
            "\n",
            "Epoch:   10/10    Loss: 3.2834471111297607\n",
            "\n",
            "Epoch:   10/10    Loss: 3.300711100101471\n",
            "\n",
            "Model Trained and Saved\n"
          ],
          "name": "stdout"
        },
        {
          "output_type": "stream",
          "text": [
            "/usr/local/lib/python3.6/dist-packages/torch/serialization.py:402: UserWarning: Couldn't retrieve source code for container of type RNN. It won't be checked for correctness upon loading.\n",
            "  \"type \" + obj.__name__ + \". It won't be checked \"\n"
          ],
          "name": "stderr"
        }
      ]
    },
    {
      "cell_type": "markdown",
      "metadata": {
        "id": "-fYGNSFEWUmv",
        "colab_type": "text"
      },
      "source": [
        "### Question: How did you decide on your model hyperparameters? \n",
        "For example, did you try different sequence_lengths and find that one size made the model converge faster? What about your hidden_dim and n_layers; how did you decide on those?"
      ]
    },
    {
      "cell_type": "markdown",
      "metadata": {
        "id": "IzTuEIRpWUmv",
        "colab_type": "text"
      },
      "source": [
        "**Answer:** The parameters we chosen by trial and error. For chosing the senquence_length I trade-off should be made between convergence time and accuracy. Also, the hidden_dim and n_layers tend to affect the converge time so they were chosen in order to keep a reasonable training time. The learning rate I set it to 0.002 as trying a higher value, e.g. 0.005 the validation loss performance was poorer and had high variations and even increases, probably due to not able to determine correctly the local minima. Lower values for learning rate, e.g. 0.001 hurt the training time."
      ]
    },
    {
      "cell_type": "markdown",
      "metadata": {
        "id": "_faJgGczWUmw",
        "colab_type": "text"
      },
      "source": [
        "---\n",
        "# Checkpoint\n",
        "\n",
        "After running the above training cell, your model will be saved by name, `trained_rnn`, and if you save your notebook progress, **you can pause here and come back to this code at another time**. You can resume your progress by running the next cell, which will load in our word:id dictionaries _and_ load in your saved model by name!"
      ]
    },
    {
      "cell_type": "code",
      "metadata": {
        "id": "uShHUsE7WUmx",
        "colab_type": "code",
        "colab": {}
      },
      "source": [
        "\"\"\"\n",
        "DON'T MODIFY ANYTHING IN THIS CELL\n",
        "\"\"\"\n",
        "import torch\n",
        "import helper\n",
        "import problem_unittests as tests\n",
        "\n",
        "_, vocab_to_int, int_to_vocab, token_dict = helper.load_preprocess()\n",
        "trained_rnn = helper.load_model('./save/trained_rnn')"
      ],
      "execution_count": 0,
      "outputs": []
    },
    {
      "cell_type": "markdown",
      "metadata": {
        "id": "Cgg1ZiaXWUm0",
        "colab_type": "text"
      },
      "source": [
        "## Generate TV Script\n",
        "With the network trained and saved, you'll use it to generate a new, \"fake\" Seinfeld TV script in this section.\n",
        "\n",
        "### Generate Text\n",
        "To generate the text, the network needs to start with a single word and repeat its predictions until it reaches a set length. You'll be using the `generate` function to do this. It takes a word id to start with, `prime_id`, and generates a set length of text, `predict_len`. Also note that it uses topk sampling to introduce some randomness in choosing the most likely next word, given an output set of word scores!"
      ]
    },
    {
      "cell_type": "code",
      "metadata": {
        "id": "VRltuBUpWUm1",
        "colab_type": "code",
        "colab": {}
      },
      "source": [
        "\"\"\"\n",
        "DON'T MODIFY ANYTHING IN THIS CELL THAT IS BELOW THIS LINE\n",
        "\"\"\"\n",
        "import torch.nn.functional as F\n",
        "\n",
        "def generate(rnn, prime_id, int_to_vocab, token_dict, pad_value, predict_len=100):\n",
        "    \"\"\"\n",
        "    Generate text using the neural network\n",
        "    :param decoder: The PyTorch Module that holds the trained neural network\n",
        "    :param prime_id: The word id to start the first prediction\n",
        "    :param int_to_vocab: Dict of word id keys to word values\n",
        "    :param token_dict: Dict of puncuation tokens keys to puncuation values\n",
        "    :param pad_value: The value used to pad a sequence\n",
        "    :param predict_len: The length of text to generate\n",
        "    :return: The generated text\n",
        "    \"\"\"\n",
        "    rnn.eval()\n",
        "    \n",
        "    # create a sequence (batch_size=1) with the prime_id\n",
        "    print(sequence_length)\n",
        "    print(pad_value)\n",
        "    print(prime_id)\n",
        "    current_seq = np.full((1, sequence_length), pad_value)\n",
        "    current_seq[-1][-1] = prime_id\n",
        "    predicted = [int_to_vocab[prime_id]]\n",
        "    print (current_seq)\n",
        "    \n",
        "    for _ in range(predict_len):\n",
        "        if train_on_gpu:\n",
        "            current_seq = torch.LongTensor(current_seq).cuda()\n",
        "        else:\n",
        "            current_seq = torch.LongTensor(current_seq)\n",
        "\n",
        "        # initialize the hidden state\n",
        "        hidden = rnn.init_hidden(current_seq.size(0))\n",
        "        \n",
        "        # get the output of the rnn\n",
        "        output, _ = rnn(current_seq, hidden)\n",
        "        \n",
        "        # get the next word probabilities\n",
        "        p = F.softmax(output, dim=1).data\n",
        "\n",
        "        if(train_on_gpu):\n",
        "            p = p.cpu() # move to cpu\n",
        "\n",
        "        # use top_k sampling to get the index of the next word\n",
        "        top_k = 5\n",
        "        p, top_i = p.topk(top_k)\n",
        "        top_i = top_i.numpy().squeeze()\n",
        "        \n",
        "        # select the likely next word index with some element of randomness\n",
        "        p = p.numpy().squeeze()\n",
        "        word_i = np.random.choice(top_i, p=p/p.sum())\n",
        "        \n",
        "        # retrieve that word from the dictionary\n",
        "        word = int_to_vocab[word_i]\n",
        "        predicted.append(word)     \n",
        "        \n",
        "        # the generated word becomes the next \"current sequence\" and the cycle can continue\n",
        "        current_seq = np.roll(current_seq.cpu(), -1, 1)\n",
        "        \n",
        "        current_seq[-1][-1] = word_i\n",
        "        \n",
        "    gen_sentences = ' '.join(predicted)\n",
        "    \n",
        "    # Replace punctuation tokens\n",
        "    for key, token in token_dict.items():\n",
        "        ending = ' ' if key in ['\\n', '(', '\"'] else ''\n",
        "        gen_sentences = gen_sentences.replace(' ' + token.lower(), key)\n",
        "    gen_sentences = gen_sentences.replace('\\n ', '\\n')\n",
        "    gen_sentences = gen_sentences.replace('( ', '(')\n",
        "    \n",
        "    # return all the sentences\n",
        "    return gen_sentences"
      ],
      "execution_count": 0,
      "outputs": []
    },
    {
      "cell_type": "markdown",
      "metadata": {
        "id": "y1KzX3HfWUm6",
        "colab_type": "text"
      },
      "source": [
        "### Generate a New Script\n",
        "It's time to generate the text. Set `gen_length` to the length of TV script you want to generate and set `prime_word` to one of the following to start the prediction:\n",
        "- \"jerry\"\n",
        "- \"elaine\"\n",
        "- \"george\"\n",
        "- \"kramer\"\n",
        "\n",
        "You can set the prime word to _any word_ in our dictionary, but it's best to start with a name for generating a TV script. (You can also start with any other names you find in the original text file!)"
      ]
    },
    {
      "cell_type": "code",
      "metadata": {
        "id": "dFoyiv6PWUm6",
        "colab_type": "code",
        "colab": {
          "base_uri": "https://localhost:8080/",
          "height": 921
        },
        "outputId": "558fca01-b9d9-4cc5-af25-1ec370201bca"
      },
      "source": [
        "# run the cell multiple times to get different results!\n",
        "gen_length = 400 # modify the length to your preference\n",
        "prime_word = 'jerry' # name for starting the script\n",
        "\n",
        "\"\"\"\n",
        "DON'T MODIFY ANYTHING IN THIS CELL THAT IS BELOW THIS LINE\n",
        "\"\"\"\n",
        "pad_word = helper.SPECIAL_WORDS['PADDING']\n",
        "generated_script = generate(trained_rnn, vocab_to_int[prime_word + ':'], int_to_vocab, token_dict, vocab_to_int[pad_word], gen_length)\n",
        "print(generated_script)"
      ],
      "execution_count": 62,
      "outputs": [
        {
          "output_type": "stream",
          "text": [
            "20\n",
            "21388\n",
            "8\n",
            "[[21388 21388 21388 21388 21388 21388 21388 21388 21388 21388 21388 21388\n",
            "  21388 21388 21388 21388 21388 21388 21388     8]]\n",
            "jerry: uttered, and knocks mail)\n",
            "\n",
            "jerry:(to jerry) hey, hey, you want me to be ensconced?\n",
            "\n",
            "jerry: yeah.\n",
            "\n",
            "kramer: well, you don't know how to work.(jerry and kramer both worked out of his ear and goes to the kitchen.)\n",
            "\n",
            "jerry: well, i don't know.\n",
            "\n",
            "george:(to george) you know, it's not that easy, huh? i don't want to know that i was just saying something about it.\n",
            "\n",
            "elaine:(to elaine) hey!(kramer is speechless)\n",
            "\n",
            "kramer:(getting to leave) oh.\n",
            "\n",
            "kramer: hey, i got news with that woman, and i was wondering if we want to go back to the end of the movie, we have a deal.\n",
            "\n",
            "george: what is this?\n",
            "\n",
            "jerry: well, i'm going to do this.\n",
            "\n",
            "george: oh, i can't believe it sounds great.\n",
            "\n",
            "george: i mean, i can't believe you were going to have a little too strong to me.\n",
            "\n",
            "george: well i think it's an emergency band.\n",
            "\n",
            "jerry: i don't want it, jerry.\n",
            "\n",
            "kramer: hey buddy!\n",
            "\n",
            "jerry:(to the phone) hello. hi, jerry.\n",
            "\n",
            "george:(quietly) hey! hey, you gotta go back to work.\n",
            "\n",
            "george:(smiling) well, you know, i'm sorry if you can go.\n",
            "\n",
            "elaine: i mean you don't think that you are? what happened to the operation?\n",
            "\n",
            "kramer: well, it was a little bit.\n",
            "\n",
            "jerry: well, i don't want to talk about it.\n",
            "\n",
            "elaine: what?\n",
            "\n",
            "jerry: you know, i can't go out with you.(to jerry) so, you were supposed to get a little bit of a bitch, you know, i know, i was just wondering if you can get it all over your head, and i'll see ya, i don't know what you say. i don't even know what happened to\n"
          ],
          "name": "stdout"
        }
      ]
    },
    {
      "cell_type": "markdown",
      "metadata": {
        "id": "EpOMZnnLWUm_",
        "colab_type": "text"
      },
      "source": [
        "#### Save your favorite scripts\n",
        "\n",
        "Once you have a script that you like (or find interesting), save it to a text file!"
      ]
    },
    {
      "cell_type": "code",
      "metadata": {
        "id": "u2lkSH-7WUm_",
        "colab_type": "code",
        "colab": {}
      },
      "source": [
        "# save script to a text file\n",
        "f =  open(\"generated_script_1.txt\",\"w\")\n",
        "f.write(generated_script)\n",
        "f.close()"
      ],
      "execution_count": 0,
      "outputs": []
    },
    {
      "cell_type": "markdown",
      "metadata": {
        "id": "4Y6O9DDAWUnC",
        "colab_type": "text"
      },
      "source": [
        "# The TV Script is Not Perfect\n",
        "It's ok if the TV script doesn't make perfect sense. It should look like alternating lines of dialogue, here is one such example of a few generated lines.\n",
        "\n",
        "### Example generated script\n",
        "\n",
        ">jerry: what about me?\n",
        ">\n",
        ">jerry: i don't have to wait.\n",
        ">\n",
        ">kramer:(to the sales table)\n",
        ">\n",
        ">elaine:(to jerry) hey, look at this, i'm a good doctor.\n",
        ">\n",
        ">newman:(to elaine) you think i have no idea of this...\n",
        ">\n",
        ">elaine: oh, you better take the phone, and he was a little nervous.\n",
        ">\n",
        ">kramer:(to the phone) hey, hey, jerry, i don't want to be a little bit.(to kramer and jerry) you can't.\n",
        ">\n",
        ">jerry: oh, yeah. i don't even know, i know.\n",
        ">\n",
        ">jerry:(to the phone) oh, i know.\n",
        ">\n",
        ">kramer:(laughing) you know...(to jerry) you don't know.\n",
        "\n",
        "You can see that there are multiple characters that say (somewhat) complete sentences, but it doesn't have to be perfect! It takes quite a while to get good results, and often, you'll have to use a smaller vocabulary (and discard uncommon words), or get more data.  The Seinfeld dataset is about 3.4 MB, which is big enough for our purposes; for script generation you'll want more than 1 MB of text, generally. \n",
        "\n",
        "# Submitting This Project\n",
        "When submitting this project, make sure to run all the cells before saving the notebook. Save the notebook file as \"dlnd_tv_script_generation.ipynb\" and save another copy as an HTML file by clicking \"File\" -> \"Download as..\"->\"html\". Include the \"helper.py\" and \"problem_unittests.py\" files in your submission. Once you download these files, compress them into one zip file for submission."
      ]
    },
    {
      "cell_type": "code",
      "metadata": {
        "id": "cp8HiNjpWUnD",
        "colab_type": "code",
        "colab": {}
      },
      "source": [
        ""
      ],
      "execution_count": 0,
      "outputs": []
    }
  ]
}